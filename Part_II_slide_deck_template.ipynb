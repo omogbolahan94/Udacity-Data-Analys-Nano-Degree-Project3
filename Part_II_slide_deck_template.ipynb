{
 "cells": [
  {
   "cell_type": "markdown",
   "metadata": {
    "slideshow": {
     "slide_type": "slide"
    }
   },
   "source": [
    "# Part II - Ford GoBike System Presentation\n",
    "## by Olatunji Gabriel\n",
    "### 23rd June, 2022"
   ]
  },
  {
   "cell_type": "markdown",
   "metadata": {
    "slideshow": {
     "slide_type": "slide"
    }
   },
   "source": [
    "## Investigation Overview\n",
    "\n",
    "\n",
    "The purpose of this presentation is to present my findings on the analysis of the Ford GoBike System. I investigated how i can encourage user that are not subscribers. At the end of my analysis, here is the summary of the insight i got from the data:\n",
    "\n",
    "* It can be seen that mojority of the users are subscribers.\n",
    "* Most of the bike users are male.\n",
    "* Most of the bike users do not share their bike. Of all the 183411 users, only 17359 users share their bike.\n",
    "* Most of the bike users were born between the year 1988 and 1998.\n",
    "* The top five (5) most popular start stations are:\n",
    "    * Market St at 10th St\n",
    "    * San Francisco Caltrain Station 2 (Townsend St at 4th St)\n",
    "    * Berry St at 4th St\n",
    "    * Montgomery St BART Station (Market St at 2nd St)\n",
    "    * Powell St BART Station (Market St at 4th St)\n",
    "* The follow are the list of the top 5 least used stations:\n",
    "    * 16th St Depot\n",
    "    * 21st Ave at International Blvd\n",
    "    * Palm St at Willow St\n",
    "    * Parker Ave at McAllister St\n",
    "    * Willow St at Vine St\n",
    "* The most busiest period of time is 8 A.M and 5 P.M. Other busy times are 8 A.M, 9 A.M, 6 P.M and 7 P.M\n",
    "* Average duration of all customer users of any gender is more than that of subscribed user.\n",
    "* Most non subscribers tends to be active between 10 A.M and 4 P.M.\n",
    "\n",
    "\n",
    "> **Rubric Tip**: The key insights in the slideshow must match those documented in the README.md summary. \n",
    "\n",
    "\n",
    "## Dataset Overview\n",
    "\n",
    "The Ford GoBike System data is a data of users (subscribers and customers) who uses he bike in the city of Florida. There are 16 features and 183412 observations of each users. The features are listed below:\n",
    "*  duration_sec             \n",
    "*  start_time               \n",
    "*  end_time                 \n",
    "*  start_station_id         \n",
    "*  start_station_name    \n",
    "*  start_station_latitude   \n",
    "*  start_station_longitude \n",
    "*  end_station_id           \n",
    "*  end_station_name     \n",
    "*  end_station_latitude  \n",
    "*  end_station_longitude    \n",
    "*  bike_id             \n",
    "*  user_type            \n",
    "*  member_birth_year     \n",
    "*  member_gender    \n",
    "*  bike_share_for_all_trip"
   ]
  },
  {
   "cell_type": "code",
   "execution_count": 1,
   "metadata": {
    "slideshow": {
     "slide_type": "skip"
    }
   },
   "outputs": [],
   "source": [
    "# import all packages and set plots to be embedded inline\n",
    "import numpy as np\n",
    "import pandas as pd\n",
    "import matplotlib.pyplot as plt\n",
    "import seaborn as sns\n",
    "\n",
    "sns.set_style('darkgrid')\n",
    "\n",
    "%matplotlib inline\n",
    "\n",
    "# suppress warnings from final output\n",
    "import warnings\n",
    "warnings.simplefilter(\"ignore\")"
   ]
  },
  {
   "cell_type": "code",
   "execution_count": 2,
   "metadata": {
    "slideshow": {
     "slide_type": "skip"
    }
   },
   "outputs": [],
   "source": [
    "# load in the dataset into a pandas dataframe\n",
    "df = pd.read_csv('201902-fordgobike-tripdata.csv') "
   ]
  },
  {
   "cell_type": "code",
   "execution_count": 3,
   "metadata": {
    "slideshow": {
     "slide_type": "skip"
    }
   },
   "outputs": [],
   "source": [
    "# convert the start and end time to datetime \n",
    "time = ['start_time', 'end_time']\n",
    "for t in time:\n",
    "    df[t] = pd.to_datetime(df[t], format='%Y-%m-%d')\n",
    "    \n",
    "cat = ['user_type', 'member_gender', 'bike_share_for_all_trip']\n",
    "for c in cat:\n",
    "    df[c] = df[c].astype('category')"
   ]
  },
  {
   "cell_type": "markdown",
   "metadata": {
    "slideshow": {
     "slide_type": "notes"
    }
   },
   "source": [
    "> Note that the above cells have been set as \"Skip\"-type slides. That means\n",
    "that when the notebook is rendered as http slides, those cells won't show up."
   ]
  },
  {
   "cell_type": "markdown",
   "metadata": {
    "slideshow": {
     "slide_type": "slide"
    }
   },
   "source": [
    "## (Visualization 1)\n",
    "\n",
    "The plot bellow shows the two types (Subscribers and Customers) of bike users in the dataset and their frequency. It can be seen that mojority of the users are subscribers."
   ]
  },
  {
   "cell_type": "code",
   "execution_count": 4,
   "metadata": {
    "slideshow": {
     "slide_type": "skip"
    }
   },
   "outputs": [],
   "source": [
    "def Univariate_viz(df, x_data, title, xlabel, ylabel):\n",
    "    \"\"\"\n",
    "    Univariate plot of a varibale\n",
    "    \"\"\"\n",
    "    plt.figure(figsize=(8, 5))\n",
    "    palette = sns.color_palette()\n",
    "    sns.countplot(data=df, x=x_data, color=palette[0])\n",
    "    plt.title(title, loc='left')\n",
    "    plt.xlabel(xlabel)\n",
    "    plt.ylabel(ylabel)\n",
    "    \n",
    "    # get the value count of each category\n",
    "    user_type_count = df[x_data].value_counts()\n",
    "    \n",
    "    # get the xticks label and values\n",
    "    locs, labs = plt.xticks()\n",
    "    \n",
    "    for loc, lab in list(zip(locs, labs)):\n",
    "        user_count = user_type_count[lab.get_text()]  # height values for each user type\n",
    "        if user_count < 30000:\n",
    "            plt.text(loc, user_count+100, str(user_count), ha='center', color='black', size='16')\n",
    "        else:\n",
    "            plt.text(loc, user_count/2, str(user_count), ha='center', color='White', size='16')\n",
    "    plt.show()\n"
   ]
  },
  {
   "cell_type": "code",
   "execution_count": 5,
   "metadata": {
    "slideshow": {
     "slide_type": "subslide"
    }
   },
   "outputs": [
    {
     "data": {
      "image/png": "[encoded data removed]",
      "text/plain": [
       "<Figure size 576x360 with 1 Axes>"
      ]
     },
     "metadata": {
      "needs_background": "light"
     },
     "output_type": "display_data"
    }
   ],
   "source": [
    "Univariate_viz(df, 'user_type', 'Count of Each User Type', \"User Type\", 'No. of User Type')"
   ]
  },
  {
   "cell_type": "markdown",
   "metadata": {
    "collapsed": true,
    "slideshow": {
     "slide_type": "slide"
    }
   },
   "source": [
    "## (Visualization 2)\n",
    "\n",
    "There are more male bike users than any other gender or user type. "
   ]
  },
  {
   "cell_type": "code",
   "execution_count": 6,
   "metadata": {
    "slideshow": {
     "slide_type": "subslide"
    }
   },
   "outputs": [
    {
     "data": {
      "image/png": "[encoded data removed]",
      "text/plain": [
       "<Figure size 576x360 with 1 Axes>"
      ]
     },
     "metadata": {
      "needs_background": "light"
     },
     "output_type": "display_data"
    }
   ],
   "source": [
    "Univariate_viz(df, 'member_gender', 'Count of Each Customer Gender', \"Gender\", 'No. of Gender')"
   ]
  },
  {
   "cell_type": "markdown",
   "metadata": {
    "slideshow": {
     "slide_type": "slide"
    }
   },
   "source": [
    "## (Visualization 3)\n",
    "\n",
    "Trying to understand how often a particular genter user shares bike. From the barplot below, it can be seen that the number of bike users who share bikes are way smaller than those who do not share bike."
   ]
  },
  {
   "cell_type": "code",
   "execution_count": 7,
   "metadata": {
    "slideshow": {
     "slide_type": "subslide"
    }
   },
   "outputs": [
    {
     "data": {
      "image/png": "[encoded data removed]",
      "text/plain": [
       "<Figure size 576x360 with 1 Axes>"
      ]
     },
     "metadata": {
      "needs_background": "light"
     },
     "output_type": "display_data"
    }
   ],
   "source": [
    "Univariate_viz(df, 'bike_share_for_all_trip', 'Bike Share', \"Gender\", 'No. of Bike Share')"
   ]
  },
  {
   "cell_type": "markdown",
   "metadata": {
    "slideshow": {
     "slide_type": "slide"
    }
   },
   "source": [
    "## (Visualization 4)\n",
    "\n",
    "The plot below shows that most of the bike users were born between the year 1988 and 1998."
   ]
  },
  {
   "cell_type": "code",
   "execution_count": 8,
   "metadata": {
    "slideshow": {
     "slide_type": "subslide"
    }
   },
   "outputs": [
    {
     "data": {
      "image/png": "[encoded data removed]",
      "text/plain": [
       "<Figure size 432x288 with 1 Axes>"
      ]
     },
     "metadata": {
      "needs_background": "light"
     },
     "output_type": "display_data"
    }
   ],
   "source": [
    "min_year = df['member_birth_year'].min()\n",
    "max_year = df['member_birth_year'].max()\n",
    "\n",
    "# bins = np.arange(min_year, max_year+10, 10)\n",
    "bins = np.arange(1880, 2000+10, 10)\n",
    "\n",
    "ax = plt.hist(data=df, x='member_birth_year', bins=bins);\n",
    "# plt.xlim((min_year, max_year))\n",
    "plt.xscale('log')\n",
    "plt.title('The Distribution of Date of Birth', loc='left')\n",
    "plt.xlabel('Date of Birth')\n",
    "plt.ylabel('Frequency')\n",
    "\n",
    "plt.xticks(bins, [str(x) for x in bins], rotation=45);"
   ]
  },
  {
   "cell_type": "markdown",
   "metadata": {
    "slideshow": {
     "slide_type": "slide"
    }
   },
   "source": [
    "## (Visualization 5)\n",
    "\n",
    "The top five (5) most popular start stations are:\n",
    "* Market St at 10th St\n",
    "* San Francisco Caltrain Station 2 (Townsend St at 4th St)\n",
    "* Berry St at 4th St\n",
    "* Montgomery St BART Station (Market St at 2nd St)\n",
    "* Powell St BART Station (Market St at 4th St)"
   ]
  },
  {
   "cell_type": "code",
   "execution_count": 9,
   "metadata": {
    "slideshow": {
     "slide_type": "skip"
    }
   },
   "outputs": [
    {
     "data": {
      "text/html": [
       "<div>\n",
       "<style scoped>\n",
       "    .dataframe tbody tr th:only-of-type {\n",
       "        vertical-align: middle;\n",
       "    }\n",
       "\n",
       "    .dataframe tbody tr th {\n",
       "        vertical-align: top;\n",
       "    }\n",
       "\n",
       "    .dataframe thead th {\n",
       "        text-align: right;\n",
       "    }\n",
       "</style>\n",
       "<table border=\"1\" class=\"dataframe\">\n",
       "  <thead>\n",
       "    <tr style=\"text-align: right;\">\n",
       "      <th></th>\n",
       "      <th>Station</th>\n",
       "      <th>Freq</th>\n",
       "    </tr>\n",
       "  </thead>\n",
       "  <tbody>\n",
       "    <tr>\n",
       "      <th>0</th>\n",
       "      <td>Market St at 10th St</td>\n",
       "      <td>3904</td>\n",
       "    </tr>\n",
       "    <tr>\n",
       "      <th>1</th>\n",
       "      <td>San Francisco Caltrain Station 2  (Townsend St...</td>\n",
       "      <td>3544</td>\n",
       "    </tr>\n",
       "    <tr>\n",
       "      <th>2</th>\n",
       "      <td>Berry St at 4th St</td>\n",
       "      <td>3052</td>\n",
       "    </tr>\n",
       "    <tr>\n",
       "      <th>3</th>\n",
       "      <td>Montgomery St BART Station (Market St at 2nd St)</td>\n",
       "      <td>2895</td>\n",
       "    </tr>\n",
       "    <tr>\n",
       "      <th>4</th>\n",
       "      <td>Powell St BART Station (Market St at 4th St)</td>\n",
       "      <td>2760</td>\n",
       "    </tr>\n",
       "  </tbody>\n",
       "</table>\n",
       "</div>"
      ],
      "text/plain": [
       "                                             Station  Freq\n",
       "0                               Market St at 10th St  3904\n",
       "1  San Francisco Caltrain Station 2  (Townsend St...  3544\n",
       "2                                 Berry St at 4th St  3052\n",
       "3   Montgomery St BART Station (Market St at 2nd St)  2895\n",
       "4       Powell St BART Station (Market St at 4th St)  2760"
      ]
     },
     "execution_count": 9,
     "metadata": {},
     "output_type": "execute_result"
    }
   ],
   "source": [
    "station_name = df['start_station_name'].value_counts().reset_index(\n",
    "    name='Freq').rename({'index':'Station'}, axis=1)\n",
    "\n",
    "top_5 = station_name.sort_values('Freq', ascending=False).iloc[:5]\n",
    "\n",
    "top_5"
   ]
  },
  {
   "cell_type": "code",
   "execution_count": 10,
   "metadata": {
    "slideshow": {
     "slide_type": "subslide"
    }
   },
   "outputs": [
    {
     "data": {
      "text/plain": [
       "Text(0.5, 0, 'No. of Usage')"
      ]
     },
     "execution_count": 10,
     "metadata": {},
     "output_type": "execute_result"
    },
    {
     "data": {
      "image/png": "[encoded data removed]",
      "text/plain": [
       "<Figure size 432x288 with 1 Axes>"
      ]
     },
     "metadata": {
      "needs_background": "light"
     },
     "output_type": "display_data"
    }
   ],
   "source": [
    "sns.barplot(y=top_5['Station'], x=top_5['Freq'], color=sns.color_palette()[-1])\n",
    "plt.title(\"Top 5 Most Used Stations\", loc='left')\n",
    "plt.ylabel('Stations')\n",
    "plt.xlabel('No. of Usage')"
   ]
  },
  {
   "cell_type": "markdown",
   "metadata": {
    "slideshow": {
     "slide_type": "slide"
    }
   },
   "source": [
    "## (Visualization 6)\n",
    "\n",
    "The follow are the list of the top 5 least used stations:\n",
    "* 16th St Depot\n",
    "* 21st Ave at International Blvd\n",
    "* Palm St at Willow St\n",
    "* Parker Ave at McAllister St\n",
    "* Willow St at Vine St"
   ]
  },
  {
   "cell_type": "code",
   "execution_count": 11,
   "metadata": {
    "slideshow": {
     "slide_type": "skip"
    }
   },
   "outputs": [
    {
     "data": {
      "text/html": [
       "<div>\n",
       "<style scoped>\n",
       "    .dataframe tbody tr th:only-of-type {\n",
       "        vertical-align: middle;\n",
       "    }\n",
       "\n",
       "    .dataframe tbody tr th {\n",
       "        vertical-align: top;\n",
       "    }\n",
       "\n",
       "    .dataframe thead th {\n",
       "        text-align: right;\n",
       "    }\n",
       "</style>\n",
       "<table border=\"1\" class=\"dataframe\">\n",
       "  <thead>\n",
       "    <tr style=\"text-align: right;\">\n",
       "      <th></th>\n",
       "      <th>Station</th>\n",
       "      <th>Freq</th>\n",
       "    </tr>\n",
       "  </thead>\n",
       "  <tbody>\n",
       "    <tr>\n",
       "      <th>0</th>\n",
       "      <td>16th St Depot</td>\n",
       "      <td>2</td>\n",
       "    </tr>\n",
       "    <tr>\n",
       "      <th>1</th>\n",
       "      <td>21st Ave at International Blvd</td>\n",
       "      <td>4</td>\n",
       "    </tr>\n",
       "    <tr>\n",
       "      <th>2</th>\n",
       "      <td>Palm St at Willow St</td>\n",
       "      <td>4</td>\n",
       "    </tr>\n",
       "    <tr>\n",
       "      <th>3</th>\n",
       "      <td>Parker Ave at McAllister St</td>\n",
       "      <td>7</td>\n",
       "    </tr>\n",
       "    <tr>\n",
       "      <th>4</th>\n",
       "      <td>Willow St at Vine St</td>\n",
       "      <td>9</td>\n",
       "    </tr>\n",
       "  </tbody>\n",
       "</table>\n",
       "</div>"
      ],
      "text/plain": [
       "                          Station  Freq\n",
       "0                   16th St Depot     2\n",
       "1  21st Ave at International Blvd     4\n",
       "2            Palm St at Willow St     4\n",
       "3     Parker Ave at McAllister St     7\n",
       "4            Willow St at Vine St     9"
      ]
     },
     "execution_count": 11,
     "metadata": {},
     "output_type": "execute_result"
    }
   ],
   "source": [
    "least_5 = station_name.sort_values('Freq').reset_index(drop=True).loc[:4]\n",
    "\n",
    "least_5"
   ]
  },
  {
   "cell_type": "code",
   "execution_count": 12,
   "metadata": {
    "slideshow": {
     "slide_type": "subslide"
    }
   },
   "outputs": [
    {
     "data": {
      "text/plain": [
       "Text(0.5, 0, 'No. of Usage')"
      ]
     },
     "execution_count": 12,
     "metadata": {},
     "output_type": "execute_result"
    },
    {
     "data": {
      "image/png": "[encoded data removed]",
      "text/plain": [
       "<Figure size 432x288 with 1 Axes>"
      ]
     },
     "metadata": {
      "needs_background": "light"
     },
     "output_type": "display_data"
    }
   ],
   "source": [
    "sns.barplot(y=least_5['Station'], x=least_5['Freq'], color=sns.color_palette()[-1])\n",
    "plt.title(\"Top 5 Stations Used Less Often\", loc='left')\n",
    "plt.ylabel('Stations')\n",
    "plt.xlabel('No. of Usage')"
   ]
  },
  {
   "cell_type": "markdown",
   "metadata": {
    "slideshow": {
     "slide_type": "slide"
    }
   },
   "source": [
    "## (Visualization 7)\n",
    "\n",
    "The plot below shows the frequency of the starting time (hour) of each bike."
   ]
  },
  {
   "cell_type": "code",
   "execution_count": 13,
   "metadata": {
    "slideshow": {
     "slide_type": "skip"
    }
   },
   "outputs": [],
   "source": [
    "df['hour'] = df['start_time'].dt.hour"
   ]
  },
  {
   "cell_type": "code",
   "execution_count": 14,
   "metadata": {
    "slideshow": {
     "slide_type": "subslide"
    }
   },
   "outputs": [
    {
     "data": {
      "text/plain": [
       "Text(0.5, 0, 'No. of Users')"
      ]
     },
     "execution_count": 14,
     "metadata": {},
     "output_type": "execute_result"
    },
    {
     "data": {
      "image/png": "[encoded data removed]",
      "text/plain": [
       "<Figure size 864x360 with 1 Axes>"
      ]
     },
     "metadata": {
      "needs_background": "light"
     },
     "output_type": "display_data"
    }
   ],
   "source": [
    "plt.figure(figsize=(12, 5))\n",
    "sns.countplot(data=df, y='hour', color=sns.color_palette()[0])\n",
    "plt.title('Most Busiest Hour', loc='left')\n",
    "plt.ylabel(\"Time of the Day (hr.)\")\n",
    "plt.xlabel(\"No. of Users\")\n",
    "# Univariate_viz(df, 'user_type', 'Count of Each User Type', \"User Type\", 'No. of User Type')"
   ]
  },
  {
   "cell_type": "markdown",
   "metadata": {
    "slideshow": {
     "slide_type": "slide"
    }
   },
   "source": [
    "## (Visualization 8)\n",
    "\n",
    "I was identified that the average duration of journey for female and other gender is more than male."
   ]
  },
  {
   "cell_type": "code",
   "execution_count": 15,
   "metadata": {
    "slideshow": {
     "slide_type": "skip"
    }
   },
   "outputs": [],
   "source": [
    "stats = df['duration_sec'].describe().reset_index().rename({'index':'stats'}, axis=1).set_index('stats')\n",
    "whisker_length = 796 + (1.5*(stats.loc['75%', 'duration_sec']-stats.loc['25%', 'duration_sec']))\n",
    "df['handled_duration'] = df['duration_sec'].apply(lambda x: whisker_length if x > whisker_length else x)"
   ]
  },
  {
   "cell_type": "code",
   "execution_count": 16,
   "metadata": {
    "slideshow": {
     "slide_type": "skip"
    }
   },
   "outputs": [],
   "source": [
    "def bat_plt(df, x, y, title, xlabel, ylabel):\n",
    "    palette = sns.color_palette()[-1]\n",
    "    sns.barplot(data=df, x=x, y=y, color=palette)\n",
    "    plt.title(title, loc='left')\n",
    "    plt.xlabel(xlabel)\n",
    "    plt.ylabel(ylabel)"
   ]
  },
  {
   "cell_type": "code",
   "execution_count": 17,
   "metadata": {
    "slideshow": {
     "slide_type": "subslide"
    }
   },
   "outputs": [
    {
     "data": {
      "image/png": "[encoded data removed]",
      "text/plain": [
       "<Figure size 432x288 with 1 Axes>"
      ]
     },
     "metadata": {
      "needs_background": "light"
     },
     "output_type": "display_data"
    }
   ],
   "source": [
    "bat_plt(df, 'member_gender', 'handled_duration', 'Gender Duration Average', 'Gender', 'Avg. Duration')"
   ]
  },
  {
   "cell_type": "markdown",
   "metadata": {
    "slideshow": {
     "slide_type": "slide"
    }
   },
   "source": [
    "### (Visualization 9)\n",
    "\n",
    "Average duration of all customer users of any gender is more than that of subscribed user."
   ]
  },
  {
   "cell_type": "code",
   "execution_count": 18,
   "metadata": {
    "slideshow": {
     "slide_type": "subslide"
    }
   },
   "outputs": [
    {
     "data": {
      "text/plain": [
       "Text(0, 0.5, 'Average Duration')"
      ]
     },
     "execution_count": 18,
     "metadata": {},
     "output_type": "execute_result"
    },
    {
     "data": {
      "image/png": "[encoded data removed]",
      "text/plain": [
       "<Figure size 864x360 with 1 Axes>"
      ]
     },
     "metadata": {},
     "output_type": "display_data"
    }
   ],
   "source": [
    "sns.set_style('whitegrid')\n",
    "plt.figure(figsize=(12,5))\n",
    "sns.barplot(data=df, x='member_gender', y='handled_duration', hue='user_type')\n",
    "plt.title('Avg. Duration of a Specific User Type Gender')\n",
    "plt.xlabel('User Gender')\n",
    "plt.ylabel('Average Duration')"
   ]
  },
  {
   "cell_type": "markdown",
   "metadata": {
    "slideshow": {
     "slide_type": "slide"
    }
   },
   "source": [
    "## (Visualization 10)\n",
    "\n",
    "Most non subscribers tends to be active between 10 A.M and 4 P.M."
   ]
  },
  {
   "cell_type": "code",
   "execution_count": 19,
   "metadata": {
    "slideshow": {
     "slide_type": "subslide"
    }
   },
   "outputs": [
    {
     "data": {
      "text/plain": [
       "Text(0, 0.5, 'Active Time (Hr)')"
      ]
     },
     "execution_count": 19,
     "metadata": {},
     "output_type": "execute_result"
    },
    {
     "data": {
      "image/png": "[encoded data removed]",
      "text/plain": [
       "<Figure size 432x288 with 1 Axes>"
      ]
     },
     "metadata": {},
     "output_type": "display_data"
    }
   ],
   "source": [
    "sns.boxplot(data=df, x='user_type', y='hour')\n",
    "plt.title('Active Period for subscribers and Customers', loc='left')\n",
    "plt.xlabel('User Type')\n",
    "plt.ylabel('Active Time (Hr)')"
   ]
  },
  {
   "cell_type": "code",
   "execution_count": null,
   "metadata": {
    "slideshow": {
     "slide_type": "skip"
    }
   },
   "outputs": [],
   "source": [
    "!jupyter nbconvert Part_II_slide_deck_template.ipynb --to slides --post serve --no-input --no-prompt"
   ]
  },
  {
   "cell_type": "markdown",
   "metadata": {
    "slideshow": {
     "slide_type": "slide"
    }
   },
   "source": [
    "# Thank You!"
   ]
  },
  {
   "cell_type": "raw",
   "metadata": {},
   "source": []
  }
 ],
 "metadata": {
  "celltoolbar": "Slideshow",
  "kernelspec": {
   "display_name": "Python 3",
   "language": "python",
   "name": "python3"
  },
  "language_info": {
   "codemirror_mode": {
    "name": "ipython",
    "version": 3
   },
   "file_extension": ".py",
   "mimetype": "text/x-python",
   "name": "python",
   "nbconvert_exporter": "python",
   "pygments_lexer": "ipython3",
   "version": "3.8.8"
  }
 },
 "nbformat": 4,
 "nbformat_minor": 2
}
